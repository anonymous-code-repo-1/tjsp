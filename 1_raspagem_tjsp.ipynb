{
  "nbformat": 4,
  "nbformat_minor": 0,
  "metadata": {
    "colab": {
      "provenance": []
    },
    "kernelspec": {
      "name": "ir",
      "display_name": "R"
    },
    "language_info": {
      "name": "R"
    }
  },
  "cells": [
    {
      "cell_type": "markdown",
      "source": [
        "O código abaixo não pode ser executado em um notebook Colab ou Jupyter, devido à incompatibilidade com a API do GitHub.\n",
        "\n",
        "Execute o código, conforme as instruções documentadas, em outro ambiente de execução da linguagem R.\n"
      ],
      "metadata": {
        "id": "cjCl1r_tcvQo"
      }
    },
    {
      "cell_type": "markdown",
      "source": [
        "Instala pacote API e outros pacotes necessários:"
      ],
      "metadata": {
        "id": "FPSb8GcwLs1c"
      }
    },
    {
      "cell_type": "code",
      "source": [
        "install.packages(\"remotes\")\n",
        "install.packages(\"readxl\")\n",
        "remotes::install_github(\"jjesusfilho/tjsp\", force=TRUE)\n",
        "remotes::install_github(\"leeper/rio\", force=TRUE)"
      ],
      "metadata": {
        "id": "uJo14mG_IYmY"
      },
      "execution_count": null,
      "outputs": []
    },
    {
      "cell_type": "markdown",
      "source": [
        "Carregar planilha de termos:"
      ],
      "metadata": {
        "id": "4lsasszBLv8p"
      }
    },
    {
      "cell_type": "code",
      "source": [
        "#a planilha \"termos_utilizados.xlsx\" deve estar upada no ambiente de execucao, no diretorio padrao\n",
        "library(readxl)\n",
        "p <- read_excel(\"termos_utilizados.xlsx\")\n",
        "ter <- p$termo #cria vetor de termos"
      ],
      "metadata": {
        "id": "NCtgfz1iIld-"
      },
      "execution_count": null,
      "outputs": []
    },
    {
      "cell_type": "markdown",
      "source": [
        "Função para tratar existência e criação dos diretórios:"
      ],
      "metadata": {
        "id": "UEK9_VD5t4gU"
      }
    },
    {
      "cell_type": "code",
      "source": [
        "verificaDiretorio = function(t) {\n",
        "  if (dir.exists(t)) {\n",
        "    unlink(t) # Se o diretório já existe, exclui-o\n",
        "  }\n",
        "  dir.create(t) # Cria um novo diretório\n",
        "}"
      ],
      "metadata": {
        "id": "T2mWUUM2tNHR"
      },
      "execution_count": null,
      "outputs": []
    },
    {
      "cell_type": "markdown",
      "source": [
        "Função para baixar as páginas HTML referentes aos resultados totais encontrados:"
      ],
      "metadata": {
        "id": "XlsO6e0rBxy0"
      }
    },
    {
      "cell_type": "code",
      "source": [
        "baixaPaginas = function(t) {\n",
        "    library(tjsp)\n",
        "    busca <- paste('\"', t, '\"', sep = \"\") #constroi string de busca\n",
        "    autenticar(login=\"xxxxx\", password=\"xxxxx\")\n",
        "    #busca no portal\n",
        "    print(t)\n",
        "    out <- tryCatch(\n",
        "    {\n",
        "    tjsp_baixar_cjsg(livre=busca, diretorio=t)\n",
        "    },\n",
        "    error=function(cond) {\n",
        "      message(\"download nao funcionou - ERRO - baixando paginas novamente....\")\n",
        "      message(cond)\n",
        "      baixaPaginas(t)\n",
        "      # Choose a return value in case of error\n",
        "      return(NA)\n",
        "    },\n",
        "      warning=function(cond) {\n",
        "      message(\"download nao funcionou - warning - baixando paginas novamente....\")\n",
        "      message(cond)\n",
        "      baixaPaginas(t)\n",
        "      # Choose a return value in case of error\n",
        "      return(NA)\n",
        "    }\n",
        "  )\n",
        "}"
      ],
      "metadata": {
        "id": "gyFAuVsJ_Mt0"
      },
      "execution_count": null,
      "outputs": []
    },
    {
      "cell_type": "code",
      "source": [
        "verificaPaginas = function(t) {\n",
        "\n",
        "  arquivos <- list.files(t, full.names = TRUE)\n",
        "  if(length(arquivos)>1){\n",
        "    for (arquivo in arquivos) {\n",
        "      tamanho <- file.info(arquivo)$size\n",
        "      if (tamanho==0) {\n",
        "        unlink(t)\n",
        "        dir.create(t)\n",
        "        baixaPaginas(t)\n",
        "        verificaPaginas(t)\n",
        "        break\n",
        "      }\n",
        "    }\n",
        "  }\n",
        "}"
      ],
      "metadata": {
        "id": "DFa_KWzGkVgc"
      },
      "execution_count": null,
      "outputs": []
    },
    {
      "cell_type": "markdown",
      "source": [
        "Função para criar o dataframe de resultados:"
      ],
      "metadata": {
        "id": "FkXGbjxvB821"
      }
    },
    {
      "cell_type": "code",
      "source": [
        "criaDataFrame = function(tabela,vetor_acordaos,textos){\n",
        "  df <- data.frame(\n",
        "    classe = tabela$classe,\n",
        "    assunto = tabela$assunto,\n",
        "    relator = tabela$relator,\n",
        "    comarca = tabela$comarca,\n",
        "    orgao_julgador = tabela$orgao_julgador,\n",
        "    data_julgamento = tabela$data_julgamento,\n",
        "    data_publicacao = tabela$data_publicacao,\n",
        "    processo = tabela$processo,\n",
        "    idacordao = vetor_acordaos,\n",
        "    acordao = textos\n",
        "  )\n",
        "  return(df)\n",
        "}"
      ],
      "metadata": {
        "id": "H7jpL5fOAAaY"
      },
      "execution_count": null,
      "outputs": []
    },
    {
      "cell_type": "markdown",
      "source": [
        "Função para leitura de um acórdão individual e atualização dos resultados:"
      ],
      "metadata": {
        "id": "B_h6tdahD25X"
      }
    },
    {
      "cell_type": "code",
      "source": [
        "leituraAcordaos = function(t,i,j){\n",
        "    library(tjsp)\n",
        "    nome <- paste(t,\"/\",\"cdacordao_\", i, \".pdf\", sep = \"\") #armazena nome do arquivo baixado, com diretorio\n",
        "\n",
        "    while(file.info(nome)$size == 0){\n",
        "      file.remove(nome)\n",
        "      tjsp_baixar_acordaos_cjsg(i, diretorio = t) #baixa arquivo referente ao codigo do acordao\n",
        "    }\n",
        "\n",
        "    leitura <- paste(\" \", (ler_acordaos(arquivos = nome,remover_assinatura = TRUE,combinar = TRUE))$julgado, sep=\"\") #armazena apenas a leitura do texto do acordao\n",
        "\n",
        "  return(leitura)\n",
        "}"
      ],
      "metadata": {
        "id": "l8YU6nA5C5zY"
      },
      "execution_count": null,
      "outputs": []
    },
    {
      "cell_type": "markdown",
      "source": [
        "Função para buscar todos os acórdãos referentes aos processos encontrados para um determinado termo:"
      ],
      "metadata": {
        "id": "RI5LwrEzDvrU"
      }
    },
    {
      "cell_type": "code",
      "source": [
        "buscaAcordaos = function(tabela,t){\n",
        "  vetor_acordaos_char <- tabela$cdacordao\n",
        "  vetor_acordaos <- as.integer(vetor_acordaos_char)\n",
        "  textos <- c()\n",
        "\n",
        "  j<-1\n",
        "  for(i in vetor_acordaos){ #percorre os resultados, a fim de baixar os respectivos acordaos\n",
        "      library(tjsp)\n",
        "      autenticar(login=\"xxxx\", password=\"xxxx\") #autenticacao no tjsp\n",
        "      tjsp_baixar_acordaos_cjsg(i, diretorio = t) #baixa arquivo referente ao codigo do acordao\n",
        "        tryCatch({\n",
        "          textos <- c(textos,leituraAcordaos(t,i,j))\n",
        "        }, error = function(e) {\n",
        "          textos <- c(textos,\"erro na leitura do acordao\")\n",
        "        })\n",
        "       #le arquivo e atualiza resultados\n",
        "      j<-j+1\n",
        "  }\n",
        "  df <- criaDataFrame(tabela,vetor_acordaos,textos)\n",
        "  return(df)\n",
        "}"
      ],
      "metadata": {
        "id": "sS92xQdwBYT4"
      },
      "execution_count": null,
      "outputs": []
    },
    {
      "cell_type": "markdown",
      "source": [
        "Laço total de busca e tratamento de todos os termos:"
      ],
      "metadata": {
        "id": "DJ_AaWpv3GCR"
      }
    },
    {
      "cell_type": "code",
      "source": [
        "processa_termo = function(t) {\n",
        "    library(tjsp)\n",
        "    library(\"rio\")\n",
        "    nome_final <- paste(\"com-acordaos-\", t, \".csv\", sep = \"\")\n",
        "\n",
        "    if (!file.exists(nome_final)) {\n",
        "        verificaDiretorio(t)\n",
        "        busca <- paste('\"', t, '\"', sep = \"\") #constroi string de busca\n",
        "        tjsp_baixar_cjsg(livre=busca, diretorio=t)\n",
        "        Sys.sleep(30)\n",
        "        tabela <- tjsp_ler_cjsg(diretorio = t)\n",
        "        vetor_processos <- tabela$processo\n",
        "\n",
        "        if (length(vetor_processos) > 0) {\n",
        "            df <- buscaAcordaos(tabela, t)\n",
        "            export(df, nome_final)\n",
        "        } else {\n",
        "            unlink(t, recursive = TRUE)\n",
        "        }\n",
        "    }\n",
        "}"
      ],
      "metadata": {
        "id": "8knrOBKzIh81"
      },
      "execution_count": null,
      "outputs": []
    },
    {
      "cell_type": "markdown",
      "source": [
        "Comandos principais:"
      ],
      "metadata": {
        "id": "2PQyZ7Wy0BWF"
      }
    },
    {
      "cell_type": "code",
      "source": [
        "library(tjsp)\n",
        "#autenticacao no tjsp\n",
        "\n",
        "for(t in ter) {\n",
        "  autenticar(login=\"xxxx\", password=\"xxxxx\")\n",
        "  tryCatch({\n",
        "    processa_termo(t)\n",
        "  }, error = function(e) {\n",
        "    cat(\"termo não funcionou\\n\")\n",
        "  })\n",
        "}"
      ],
      "metadata": {
        "id": "a1b_T5VzJyaI"
      },
      "execution_count": null,
      "outputs": []
    }
  ]
}